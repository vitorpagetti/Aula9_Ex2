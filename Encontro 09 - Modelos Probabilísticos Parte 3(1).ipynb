{
 "cells": [
  {
   "cell_type": "markdown",
   "metadata": {},
   "source": [
    "#Encontro 09\n",
    "\n",
    "**Preparo Prévio:**\n",
    "1. Leitura prévia necessária: Magalhães e Lima (7ª. Edição): Seção 6.2 (pág. 189).\n",
    "\n",
    "**Hoje:**\n",
    "1. Descrever modelos contínuos quanto aos resultados teóricos.\n",
    "2. Explicar a utilização de modelos probabilísticos no contexto da literatura estatística.\n",
    "3. Contrastar resultados teóricos e empíricos.\n",
    "4. Fechamento do conteúdo.\n",
    "\n",
    "**Próxima aula:**\n",
    "> 1. Leitura prévia necessária: Magalhães e Lima (7ª. Edição): Seção 5.1 (pág. 137) e Seção 5.2 (pág. 146)."
   ]
  },
  {
   "cell_type": "code",
   "execution_count": 46,
   "metadata": {
    "collapsed": true
   },
   "outputs": [],
   "source": [
    "%matplotlib inline\n",
    "\n",
    "import os\n",
    "import matplotlib.pyplot as plt\n",
    "import pandas as pd\n",
    "from scipy import stats\n",
    "from scipy.stats import uniform\n",
    "import matplotlib.pyplot as plt\n",
    "import numpy as np"
   ]
  },
  {
   "cell_type": "markdown",
   "metadata": {},
   "source": [
    "Nessa aula, teremos contato com algumas distribuições contínuas e como essas podem ser utilizadas para modelagem de dados reais.\n",
    "\n",
    "**Distribuição Exponencial**\n",
    "\n",
    "A distribuição Exponencial é conhecida, principalmente, por sua adequação na modelagem de variáveis que descrevem tempo de vida de produtos e materiais. Teoricamente, a função densidade de probabilidade (FDP) de uma distribuição Exponencial com parâmetro $\\alpha$, com $\\alpha > 0$, é definida por:\n",
    "\n",
    "$$f(x;\\alpha) = f(x) = \\alpha e^{-\\alpha x},$$\n",
    "\n",
    "com $x \\geq 0$. Quando uma variável $X$ tem distribuição Exponencial com parâmetro $\\alpha$, pode-se afirmar que sua esperança e variância são dadas, respectivamente, por $E(X) = \\frac{1}{\\alpha}$ e $\\mathrm{Var}(X) = \\frac{1}{\\alpha^2}$.\n",
    "\n",
    "A Figura 1 mostra a distribuição Exponencial para alguns valores do parâmetro $\\alpha = \\frac{1}{2}; 1; \\frac{3}{2}; 3$.\n",
    "\n",
    "<img src=\"Exponencial1.png\"/>\n",
    "<center><sup>**Figura 1.** Função densidade de probabilidade da Exponencial para alguns valores de $\\alpha$.</sup></center>\n",
    "\n",
    "Para calcular a probabilidade da variável $X$ não exceder um valor $k$, é necessário obter a área abaixo da curva até esse ponto, isto é, calcular por integral a $P(X \\leq k)$. Essa probabilidade pode ser obtida pela função de distribuição acumulada (FDA) no ponto $k$ que, no caso da Exponencial, é dada por:\n",
    "\n",
    "$$F(k) = P(X \\leq k) = \\int^k_0 \\alpha e^{-\\alpha x} dx = 1 - e^{-\\alpha k}$$\n",
    "\n",
    "A Figura 2 mostra a função de distribuição acumulada da Exponencial para alguns valores do parâmetro $\\alpha = \\frac{1}{2}; 1; \\frac{3}{2}; 3$.\n",
    "\n",
    "<img src=\"Exponencial2.png\"/>\n",
    "<center><sup>**Figura 2.** Função de distribuição acumulada da Exponencial para alguns valores de $\\alpha$.</sup></center>\n",
    "\n",
    "Como notação, utiliza-se $X \\sim \\mathrm{Exp}(\\alpha)$ e lê-se: “a variável $X$ segue uma distribuição Exponencial com parâmetro $\\alpha$”."
   ]
  },
  {
   "cell_type": "markdown",
   "metadata": {},
   "source": [
    "> **O que ajuda e o que atrapalha as vendas pela internet**\n",
    "\n",
    "> *Assim como no desenho animado da Warner em que o Coiote persegue o Papa-Léguas, na internet o mais rápido leva a melhor. Um levantamento recente da consultoria americana Aberdeen Group mostra que, a cada segundo que uma página de uma loja online demora para carregar, há uma queda de 7% na conversão de vendas.*\n",
    "\n",
    "> <sup>Fonte: http://exame.abril.com.br/revista-exame-pme/edicoes/75/noticias/venda-muito-mais-pela-internet</sup>"
   ]
  },
  {
   "cell_type": "markdown",
   "metadata": {},
   "source": [
    "1) Considere a variável $T$: tempo, em segundos, para abertura de um site de loja virtual de domínio brasileiro com média igual a $1.03$ segundos e que essa variável seja modelada por uma distribuição Exponencial.\n",
    "\n",
    "1.1. A linha de comando descrita a seguir carrega uma base de dados com uma amostra dos tempos de carregamento de 100 lojas virtuais. \n",
    "\n",
    "\n",
    "\n",
    "Sabe-se que, se coincidirem com a distribuição teórica, os dados concordariam com uma distribuição exponencial  $T \\sim \\mathrm{Exp}\\left(\\frac{1}{1.03}\\right)$. \n",
    "\n",
    "Compare a média (valor esperado) e a variância da amostra com as da distribuição exponencial com $\\alpha = \\left(\\frac{1}{1.03}\\right) $. A amostra seria bem modelada (ou seja descrita, resumida) por esta distribuição?"
   ]
  },
  {
   "cell_type": "code",
   "execution_count": 21,
   "metadata": {
    "collapsed": false
   },
   "outputs": [
    {
     "data": {
      "text/plain": [
       "0.85965623544261771"
      ]
     },
     "execution_count": 21,
     "metadata": {},
     "output_type": "execute_result"
    }
   ],
   "source": [
    "tempos = pd.Series.from_csv(\"tempos.csv\")\n",
    "\n",
    "alfa = 1/1.03\n",
    "media = 1/alfa\n",
    "media2 = tempos.sum()/100\n",
    "\n",
    "media2"
   ]
  },
  {
   "cell_type": "markdown",
   "metadata": {},
   "source": [
    "1.2. Graficamente, há algumas opções para levantar indícios se uma distribuição de probabilidade irá fornecer um ajuste razoável aos dados. Dentre essas opções, temos:\n",
    "\n",
    "* Histograma dos dados *versus* função densidade de probabilidade teórica."
   ]
  },
  {
   "cell_type": "code",
   "execution_count": 22,
   "metadata": {
    "collapsed": false
   },
   "outputs": [
    {
     "data": {
      "text/plain": [
       "[<matplotlib.lines.Line2D at 0xa5af588>]"
      ]
     },
     "execution_count": 22,
     "metadata": {},
     "output_type": "execute_result"
    },
    {
     "data": {
      "image/png": "[encoded data removed]",
      "text/plain": [
       "<matplotlib.figure.Figure at 0xa52d1d0>"
      ]
     },
     "metadata": {},
     "output_type": "display_data"
    }
   ],
   "source": [
    "mu = 1.03\n",
    "n = 100\n",
    "\n",
    "# histograma e densidade teórica\n",
    "pd.DataFrame.plot(kind='hist', data=tempos, bins=range(0, 11), normed=True, legend=False)\n",
    "a = pd.Series(range(1, 1001)) / 100\n",
    "plt.plot(a, stats.expon.pdf(a, scale=mu), '-', color='red')"
   ]
  },
  {
   "cell_type": "markdown",
   "metadata": {},
   "source": [
    "* Quantis empíricos (dados ordenados) *versus* quantis teóricos."
   ]
  },
  {
   "cell_type": "code",
   "execution_count": 23,
   "metadata": {
    "collapsed": false
   },
   "outputs": [
    {
     "data": {
      "text/plain": [
       "[<matplotlib.lines.Line2D at 0x7491eb8>]"
      ]
     },
     "execution_count": 23,
     "metadata": {},
     "output_type": "execute_result"
    },
    {
     "data": {
      "image/png": "[encoded data removed]",
      "text/plain": [
       "<matplotlib.figure.Figure at 0x94dac50>"
      ]
     },
     "metadata": {},
     "output_type": "display_data"
    }
   ],
   "source": [
    "# dados ordenados e quantis teóricos - QQplot\n",
    "#tempos = tempos.copy()\n",
    "tempos = tempos.sort(inplace=False)\n",
    "fra = [] # frequencia relativa acumulada\n",
    "for i in range(n):\n",
    "  fra.append((i + 0.5) / n) # ver Magalhães e Lima (pag. 195)\n",
    "\n",
    "q = stats.expon.ppf(fra, scale=mu) # quantis teóricos\n",
    "\n",
    "plt.plot(tempos, q, 'o')\n",
    "plt.plot((min(tempos), max(tempos)), (min(tempos), max(tempos)), '-')"
   ]
  },
  {
   "cell_type": "markdown",
   "metadata": {},
   "source": [
    "* Frequência relativa acumulada (a partir dos dados) *versus* função de distribuição acumulada."
   ]
  },
  {
   "cell_type": "code",
   "execution_count": 24,
   "metadata": {
    "collapsed": false
   },
   "outputs": [
    {
     "data": {
      "text/plain": [
       "[<matplotlib.lines.Line2D at 0xa5aa9e8>]"
      ]
     },
     "execution_count": 24,
     "metadata": {},
     "output_type": "execute_result"
    },
    {
     "data": {
      "image/png": "[encoded data removed]",
      "text/plain": [
       "<matplotlib.figure.Figure at 0xa5aa898>"
      ]
     },
     "metadata": {},
     "output_type": "display_data"
    }
   ],
   "source": [
    "# fra e FDA\n",
    "fda = stats.expon.cdf(tempos, scale=mu) #FDA\n",
    "\n",
    "plt.plot(tempos, fra, '-', color='black')\n",
    "plt.plot(tempos, fda, '-', color='red')"
   ]
  },
  {
   "cell_type": "markdown",
   "metadata": {},
   "source": [
    "Considerando os gráficos anteriores, descreva se há indícios de concordância entre modelo teórico e dados (amostra simulada). Note que seus argumentos devem ser respaldados em cada resultado gráfico.\n",
    "\n",
    "Sim em todos os gráficos a curva teória passa bem perto da curva de dados com excessão de alguns pontos porexemplo no último gráfico no intervalo entre x=1 e x=2.\n",
    "\n",
    "1.3. Qual o % de lojas na amostra que demoram mais do que um segundo para abrir o site? E qual a probabilidade desse resultado acontecer? Esses resultados deveriam ser iguais? Por quê?\n",
    "\n",
    "1.4. **Na prática, qual a necessidade de um modelo probabilístico já que se têm os dados observados?**\n",
    "\n",
    "2) Há outros modelos probabilísticos contínuos:\n",
    "\n",
    "* Uniforme\n",
    "* Normal\n",
    "* Gamma\n",
    "* t-Student\n",
    "* LogNormal\n",
    "* Beta\n",
    "* F-Snedecor\n",
    "\n",
    "\n",
    "Cada grupo de alunos deve ficar com uma distribuição e deve realizar as seguintes atividades (**num IPython Notebook à parte**, que deve ser publicado no **Github** e ter seu link divulgado para a sala até 24/9):\n",
    "\n",
    "# uniforme\n",
    "\n",
    "2.1. Gere um plot da densidade de probabilidade da distribuição e de sua cumulativa. Descubra como usando o pacote scipy.stats\n",
    "\n",
    "2.2. Qual a forma analítica (expressão) da distribuição?\n",
    "\n",
    "1/b-a se a <= x <= b\n",
    "0 se x>b ou x< a\n",
    "\n",
    "2.3. Quais parâmetros descrevem a distribuição?\n",
    "a = o menor tempo\n",
    "b = o maior tempo\n",
    "\n",
    "2.4. Existe uma fórmula específica para calcular esperança (média) e variáncia em função dos parâmetros?\n",
    "\n",
    "E(X) = a+b/2\n",
    "Var(X) = (b-a)^2/2\n",
    "\n",
    "2.5. Que tipo de aplicações tem esta distribuição? Em que tipo de dados é normalmente encontrada?\n",
    "\n",
    "Para sorteio de números ou lançamentos de dados por exemplo\n",
    "\n",
    "2.6. Essa distribuição é útil para a inferência estatística? (Os Capítulos 7 e 8 do Magalhães darão uma idéia de se sim ou não)\n"
   ]
  },
  {
   "cell_type": "markdown",
   "metadata": {
    "collapsed": false
   },
   "source": [
    "\n",
    "\n"
   ]
  },
  {
   "cell_type": "code",
   "execution_count": null,
   "metadata": {
    "collapsed": false
   },
   "outputs": [],
   "source": []
  },
  {
   "cell_type": "code",
   "execution_count": null,
   "metadata": {
    "collapsed": false
   },
   "outputs": [],
   "source": []
  },
  {
   "cell_type": "code",
   "execution_count": null,
   "metadata": {
    "collapsed": false
   },
   "outputs": [],
   "source": []
  },
  {
   "cell_type": "code",
   "execution_count": null,
   "metadata": {
    "collapsed": true
   },
   "outputs": [],
   "source": []
  }
 ],
 "metadata": {
  "kernelspec": {
   "display_name": "Python 3",
   "language": "python",
   "name": "python3"
  },
  "language_info": {
   "codemirror_mode": {
    "name": "ipython",
    "version": 3
   },
   "file_extension": ".py",
   "mimetype": "text/x-python",
   "name": "python",
   "nbconvert_exporter": "python",
   "pygments_lexer": "ipython3",
   "version": "3.4.3"
  }
 },
 "nbformat": 4,
 "nbformat_minor": 0
}
