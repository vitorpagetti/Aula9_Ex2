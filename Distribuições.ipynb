{
 "cells": [
  {
   "cell_type": "markdown",
   "metadata": {},
   "source": [
    "# Uniforme:"
   ]
  },
  {
   "cell_type": "markdown",
   "metadata": {},
   "source": [
    "2.1. Gere um plot da densidade de probabilidade da distribuição e de sua cumulativa. Descubra como usando o pacote scipy.stats"
   ]
  },
  {
   "cell_type": "code",
   "execution_count": 41,
   "metadata": {
    "collapsed": false
   },
   "outputs": [],
   "source": [
    "%matplotlib inline\n",
    "import os\n",
    "import matplotlib.pyplot as plt\n",
    "import pandas as pd\n",
    "from scipy import stats\n",
    "from scipy.stats import uniform\n",
    "import matplotlib.pyplot as plt\n",
    "import numpy as np"
   ]
  },
  {
   "cell_type": "code",
   "execution_count": 42,
   "metadata": {
    "collapsed": false
   },
   "outputs": [
    {
     "data": {
      "text/plain": [
       "[<matplotlib.lines.Line2D at 0x8370f28>]"
      ]
     },
     "execution_count": 42,
     "metadata": {},
     "output_type": "execute_result"
    },
    {
     "data": {
      "image/png": "[encoded data removed]",
      "text/plain": [
       "<matplotlib.figure.Figure at 0xa61a668>"
      ]
     },
     "metadata": {},
     "output_type": "display_data"
    }
   ],
   "source": [
    "fig, ax = plt.subplots(1, 1)\n",
    "\n",
    "mean, var, skew, kurt = uniform.stats(moments='mvsk')\n",
    "\n",
    "\n",
    "x = np.linspace(uniform.ppf(0.01),uniform.ppf(0.99), 100)\n",
    "ax.plot(x, uniform.pdf(x),'r-', lw=5, alpha=0.6, label='uniform pdf')"
   ]
  },
  {
   "cell_type": "markdown",
   "metadata": {},
   "source": [
    "2.2. Qual a forma analítica (expressão) da distribuição?"
   ]
  },
  {
   "cell_type": "markdown",
   "metadata": {},
   "source": [
    "1/b-a se a <= x <= b \n",
    "0 se x>b ou x< a"
   ]
  },
  {
   "cell_type": "markdown",
   "metadata": {},
   "source": [
    "2.3. Quais parâmetros descrevem a distribuição? "
   ]
  },
  {
   "cell_type": "markdown",
   "metadata": {},
   "source": [
    "a = O começo do espaço amostral\n",
    "\n",
    "b = O termino do espaço amostral\n"
   ]
  },
  {
   "cell_type": "markdown",
   "metadata": {},
   "source": [
    "2.4. Existe uma fórmula específica para calcular esperança (média) e variáncia em função dos parâmetros?"
   ]
  },
  {
   "cell_type": "markdown",
   "metadata": {},
   "source": [
    "E(X) = a+b/2 \n",
    "\n",
    "Var(X) = (b-a)^2/2"
   ]
  },
  {
   "cell_type": "markdown",
   "metadata": {},
   "source": [
    "2.5. Que tipo de aplicações tem esta distribuição? Em que tipo de dados é normalmente encontrada?"
   ]
  },
  {
   "cell_type": "markdown",
   "metadata": {},
   "source": [
    "Para sorteio de números ou lançamentos de dados por exemplo\n"
   ]
  },
  {
   "cell_type": "markdown",
   "metadata": {},
   "source": [
    "2.6. Essa distribuição é útil para a inferência estatística? (Os Capítulos 7 e 8 do Magalhães darão uma idéia d"
   ]
  },
  {
   "cell_type": "markdown",
   "metadata": {},
   "source": [
    "A uniforme não é útil pois ela considera uma mesma probabilidade para todas as faixas do gráficos."
   ]
  },
  {
   "cell_type": "markdown",
   "metadata": {},
   "source": [
    "# t Student"
   ]
  },
  {
   "cell_type": "markdown",
   "metadata": {},
   "source": [
    "2.1. Gere um plot da densidade de probabilidade da distribuição e de sua cumulativa. Descubra como usando o pacote scipy.stats"
   ]
  },
  {
   "cell_type": "code",
   "execution_count": 43,
   "metadata": {
    "collapsed": false
   },
   "outputs": [],
   "source": [
    "from scipy.stats import t"
   ]
  },
  {
   "cell_type": "code",
   "execution_count": 44,
   "metadata": {
    "collapsed": false
   },
   "outputs": [
    {
     "data": {
      "text/plain": [
       "<matplotlib.text.Text at 0x8bddb00>"
      ]
     },
     "execution_count": 44,
     "metadata": {},
     "output_type": "execute_result"
    },
    {
     "data": {
      "image/png": "[encoded data removed]",
      "text/plain": [
       "<matplotlib.figure.Figure at 0x8b98cf8>"
      ]
     },
     "metadata": {},
     "output_type": "display_data"
    }
   ],
   "source": [
    "df = 99 # Graus de liberdade\n",
    "x = np.linspace(t.ppf(0.01, df),t.ppf(0.99, df), 100) # ppf gera somente uma saída\n",
    "plt.plot(x, t.pdf(x, df),'r-', lw=5, alpha=0.6, label='t pdf') # Plota Densidade de Probabilidade\n",
    "plt.plot(x, t.cdf(x, df),'y', lw=5, alpha=0.6, label='t cdf') # Plota Função Cumulativa\n",
    "plt.suptitle(\"Plot Densidade e Cumulativa - T-STUDENT\") # Título \n",
    "years = [\"Densidadade de Probabilidade\", 'Função Cumulativa'] # Lista com as legendas\n",
    "plt.legend(years,loc='best') # loc='best' ajeita de melhor maneira a caixa de legendas\n",
    "plt.ylabel('Percentil')"
   ]
  },
  {
   "cell_type": "markdown",
   "metadata": {},
   "source": [
    "2.2. Qual a forma analítica (expressão) da distribuição?"
   ]
  },
  {
   "cell_type": "markdown",
   "metadata": {},
   "source": [
    "[1/raizVxB(1/2,V/2)]x(1+t^2/v)^-[(v+1)/2]"
   ]
  },
  {
   "cell_type": "markdown",
   "metadata": {},
   "source": [
    "2.3. Quais parâmetros descrevem a distribuição?"
   ]
  },
  {
   "cell_type": "markdown",
   "metadata": {},
   "source": [
    "V = graus de liberdade\n",
    "\n",
    "B = Função beta"
   ]
  },
  {
   "cell_type": "markdown",
   "metadata": {},
   "source": [
    "2.4. Existe uma fórmula específica para calcular esperança (média) e variáncia em função dos parâmetros?"
   ]
  },
  {
   "cell_type": "markdown",
   "metadata": {},
   "source": [
    "E(X) = t-student não pussuí uma esperança calculável\n",
    "\n",
    "V(X) = V/V-2  se V>2\n",
    "\n",
    "V(X) = infinito se 1< V <=2"
   ]
  },
  {
   "cell_type": "markdown",
   "metadata": {},
   "source": [
    "2.5. Que tipo de aplicações tem esta distribuição? Em que tipo de dados é normalmente encontrada?"
   ]
  },
  {
   "cell_type": "markdown",
   "metadata": {},
   "source": [
    "É usada na estatística para modelagem estatística e testes de hipóteses por exemplo"
   ]
  },
  {
   "cell_type": "markdown",
   "metadata": {},
   "source": [
    "2.6. Essa distribuição é útil para a inferência estatística? "
   ]
  },
  {
   "cell_type": "markdown",
   "metadata": {},
   "source": [
    "Sim, t-student é utilizado para construir intervalos de confiança, determinados pelo usuário."
   ]
  },
  {
   "cell_type": "code",
   "execution_count": null,
   "metadata": {
    "collapsed": true
   },
   "outputs": [],
   "source": []
  },
  {
   "cell_type": "code",
   "execution_count": null,
   "metadata": {
    "collapsed": true
   },
   "outputs": [],
   "source": []
  }
 ],
 "metadata": {
  "kernelspec": {
   "display_name": "Python 3",
   "language": "python",
   "name": "python3"
  },
  "language_info": {
   "codemirror_mode": {
    "name": "ipython",
    "version": 3
   },
   "file_extension": ".py",
   "mimetype": "text/x-python",
   "name": "python",
   "nbconvert_exporter": "python",
   "pygments_lexer": "ipython3",
   "version": "3.4.3"
  }
 },
 "nbformat": 4,
 "nbformat_minor": 0
}
